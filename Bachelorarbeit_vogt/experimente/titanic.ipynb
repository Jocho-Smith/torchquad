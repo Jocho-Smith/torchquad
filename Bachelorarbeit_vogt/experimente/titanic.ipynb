{
 "cells": [
  {
   "cell_type": "code",
   "execution_count": 1,
   "metadata": {
    "scrolled": true
   },
   "outputs": [],
   "source": [
    "# Copyright 2021 Annika Vogt\n",
    "# Copyright 2021 ST John\n",
    "# Copyright 2016 James Hensman, Nicolas Durrande\n",
    "#\n",
    "# Licensed under the Apache License, Version 2.0 (the \"License\");\n",
    "# you may not use this file except in compliance with the License.\n",
    "# You may obtain a copy of the License at\n",
    "#\n",
    "# http://www.apache.org/licenses/LICENSE-2.0\n",
    "#\n",
    "# Unless required by applicable law or agreed to in writing, software\n",
    "# distributed under the License is distributed on an \"AS IS\" BASIS,\n",
    "# WITHOUT WARRANTIES OR CONDITIONS OF ANY KIND, either express or implied.\n",
    "# See the License for the specific language governing permissions and\n",
    "# limitations under the License.\n",
    "\n",
    "\n",
    "import numpy as np\n",
    "from matplotlib import pyplot as plt\n",
    "from scipy.cluster.vq import kmeans\n",
    "from VFF.vgp import VGP_kron\n",
    "import gpflow\n",
    "from matplotlib import pyplot as plt\n",
    "import tensorflow as tf\n",
    "\n",
    "from gpflow.utilities import print_summary\n",
    "gpflow.config.set_default_summary_fmt(\"notebook\")\n",
    "\n",
    "from time import time"
   ]
  },
  {
   "cell_type": "code",
   "execution_count": 2,
   "metadata": {},
   "outputs": [],
   "source": [
    "X = np.loadtxt(\"titanic-x5.txt\", delimiter=\"\\t\")\n",
    "Y = np.loadtxt(\"titanic-y.txt\")[:, None]\n",
    "\n",
    "\n",
    "lik = gpflow.likelihoods.Bernoulli\n",
    "k = gpflow.kernels.Matern32\n",
    "\n",
    "a = X.min(0) - 2.\n",
    "b = X.max(0) + 2."
   ]
  },
  {
   "cell_type": "code",
   "execution_count": 3,
   "metadata": {},
   "outputs": [],
   "source": [
    "models = []\n",
    "labels = []"
   ]
  },
  {
   "cell_type": "code",
   "execution_count": 4,
   "metadata": {},
   "outputs": [
    {
     "data": {
      "text/html": [
       "<table>\n",
       "<thead>\n",
       "<tr><th>name                     </th><th>class    </th><th>transform  </th><th>prior  </th><th>trainable  </th><th>shape   </th><th>dtype  </th><th>value                </th></tr>\n",
       "</thead>\n",
       "<tbody>\n",
       "<tr><td>VGP_kron.kernels[0].variance\n",
       "VGP_kron.kernels[1].variance\n",
       "VGP_kron.kernels[2].variance\n",
       "VGP_kron.kernels[3].variance\n",
       "VGP_kron.kernels[4].variance                          </td><td>Parameter</td><td>Softplus   </td><td>       </td><td>True       </td><td>()      </td><td>float64</td><td>0.9999999999999999   </td></tr>\n",
       "<tr><td>VGP_kron.kernels[0].lengthscales\n",
       "VGP_kron.kernels[1].lengthscales\n",
       "VGP_kron.kernels[2].lengthscales\n",
       "VGP_kron.kernels[3].lengthscales\n",
       "VGP_kron.kernels[4].lengthscales                          </td><td>Parameter</td><td>Softplus   </td><td>       </td><td>True       </td><td>()      </td><td>float64</td><td>0.9999999999999999   </td></tr>\n",
       "<tr><td>VGP_kron.q_mu            </td><td>Parameter</td><td>Identity   </td><td>       </td><td>True       </td><td>(243, 1)</td><td>float64</td><td>[[0....              </td></tr>\n",
       "<tr><td>VGP_kron.q_sqrt_kron[0]  </td><td>Parameter</td><td>Identity   </td><td>       </td><td>True       </td><td>(3, 3)  </td><td>float64</td><td>[[1., 0., 0....      </td></tr>\n",
       "<tr><td>VGP_kron.q_sqrt_kron[1]  </td><td>Parameter</td><td>Identity   </td><td>       </td><td>True       </td><td>(3, 3)  </td><td>float64</td><td>[[1., 0., 0....      </td></tr>\n",
       "<tr><td>VGP_kron.q_sqrt_kron[2]  </td><td>Parameter</td><td>Identity   </td><td>       </td><td>True       </td><td>(3, 3)  </td><td>float64</td><td>[[1., 0., 0....      </td></tr>\n",
       "<tr><td>VGP_kron.q_sqrt_kron[3]  </td><td>Parameter</td><td>Identity   </td><td>       </td><td>True       </td><td>(3, 3)  </td><td>float64</td><td>[[1., 0., 0....      </td></tr>\n",
       "<tr><td>VGP_kron.q_sqrt_kron[4]  </td><td>Parameter</td><td>Identity   </td><td>       </td><td>True       </td><td>(3, 3)  </td><td>float64</td><td>[[1., 0., 0....      </td></tr>\n",
       "<tr><td>VGP_kron.q_sqrt_kron_2[0]</td><td>Parameter</td><td>Identity   </td><td>       </td><td>True       </td><td>(3, 3)  </td><td>float64</td><td>[[1.01, 0.01, 0.01...</td></tr>\n",
       "<tr><td>VGP_kron.q_sqrt_kron_2[1]</td><td>Parameter</td><td>Identity   </td><td>       </td><td>True       </td><td>(3, 3)  </td><td>float64</td><td>[[1.01, 0.01, 0.01...</td></tr>\n",
       "<tr><td>VGP_kron.q_sqrt_kron_2[2]</td><td>Parameter</td><td>Identity   </td><td>       </td><td>True       </td><td>(3, 3)  </td><td>float64</td><td>[[1.01, 0.01, 0.01...</td></tr>\n",
       "<tr><td>VGP_kron.q_sqrt_kron_2[3]</td><td>Parameter</td><td>Identity   </td><td>       </td><td>True       </td><td>(3, 3)  </td><td>float64</td><td>[[1.01, 0.01, 0.01...</td></tr>\n",
       "<tr><td>VGP_kron.q_sqrt_kron_2[4]</td><td>Parameter</td><td>Identity   </td><td>       </td><td>True       </td><td>(3, 3)  </td><td>float64</td><td>[[1.01, 0.01, 0.01...</td></tr>\n",
       "</tbody>\n",
       "</table>"
      ],
      "text/plain": [
       "<IPython.core.display.HTML object>"
      ]
     },
     "metadata": {},
     "output_type": "display_data"
    },
    {
     "data": {
      "text/html": [
       "<table>\n",
       "<thead>\n",
       "<tr><th>name                     </th><th>class    </th><th>transform  </th><th>prior  </th><th>trainable  </th><th>shape    </th><th>dtype  </th><th>value                </th></tr>\n",
       "</thead>\n",
       "<tbody>\n",
       "<tr><td>VGP_kron.kernels[0].variance\n",
       "VGP_kron.kernels[1].variance\n",
       "VGP_kron.kernels[2].variance\n",
       "VGP_kron.kernels[3].variance\n",
       "VGP_kron.kernels[4].variance                          </td><td>Parameter</td><td>Softplus   </td><td>       </td><td>True       </td><td>()       </td><td>float64</td><td>0.9999999999999999   </td></tr>\n",
       "<tr><td>VGP_kron.kernels[0].lengthscales\n",
       "VGP_kron.kernels[1].lengthscales\n",
       "VGP_kron.kernels[2].lengthscales\n",
       "VGP_kron.kernels[3].lengthscales\n",
       "VGP_kron.kernels[4].lengthscales                          </td><td>Parameter</td><td>Softplus   </td><td>       </td><td>True       </td><td>()       </td><td>float64</td><td>0.9999999999999999   </td></tr>\n",
       "<tr><td>VGP_kron.q_mu            </td><td>Parameter</td><td>Identity   </td><td>       </td><td>True       </td><td>(3125, 1)</td><td>float64</td><td>[[0....              </td></tr>\n",
       "<tr><td>VGP_kron.q_sqrt_kron[0]  </td><td>Parameter</td><td>Identity   </td><td>       </td><td>True       </td><td>(5, 5)   </td><td>float64</td><td>[[1., 0., 0....      </td></tr>\n",
       "<tr><td>VGP_kron.q_sqrt_kron[1]  </td><td>Parameter</td><td>Identity   </td><td>       </td><td>True       </td><td>(5, 5)   </td><td>float64</td><td>[[1., 0., 0....      </td></tr>\n",
       "<tr><td>VGP_kron.q_sqrt_kron[2]  </td><td>Parameter</td><td>Identity   </td><td>       </td><td>True       </td><td>(5, 5)   </td><td>float64</td><td>[[1., 0., 0....      </td></tr>\n",
       "<tr><td>VGP_kron.q_sqrt_kron[3]  </td><td>Parameter</td><td>Identity   </td><td>       </td><td>True       </td><td>(5, 5)   </td><td>float64</td><td>[[1., 0., 0....      </td></tr>\n",
       "<tr><td>VGP_kron.q_sqrt_kron[4]  </td><td>Parameter</td><td>Identity   </td><td>       </td><td>True       </td><td>(5, 5)   </td><td>float64</td><td>[[1., 0., 0....      </td></tr>\n",
       "<tr><td>VGP_kron.q_sqrt_kron_2[0]</td><td>Parameter</td><td>Identity   </td><td>       </td><td>True       </td><td>(5, 5)   </td><td>float64</td><td>[[1.01, 0.01, 0.01...</td></tr>\n",
       "<tr><td>VGP_kron.q_sqrt_kron_2[1]</td><td>Parameter</td><td>Identity   </td><td>       </td><td>True       </td><td>(5, 5)   </td><td>float64</td><td>[[1.01, 0.01, 0.01...</td></tr>\n",
       "<tr><td>VGP_kron.q_sqrt_kron_2[2]</td><td>Parameter</td><td>Identity   </td><td>       </td><td>True       </td><td>(5, 5)   </td><td>float64</td><td>[[1.01, 0.01, 0.01...</td></tr>\n",
       "<tr><td>VGP_kron.q_sqrt_kron_2[3]</td><td>Parameter</td><td>Identity   </td><td>       </td><td>True       </td><td>(5, 5)   </td><td>float64</td><td>[[1.01, 0.01, 0.01...</td></tr>\n",
       "<tr><td>VGP_kron.q_sqrt_kron_2[4]</td><td>Parameter</td><td>Identity   </td><td>       </td><td>True       </td><td>(5, 5)   </td><td>float64</td><td>[[1.01, 0.01, 0.01...</td></tr>\n",
       "</tbody>\n",
       "</table>"
      ],
      "text/plain": [
       "<IPython.core.display.HTML object>"
      ]
     },
     "metadata": {},
     "output_type": "display_data"
    },
    {
     "data": {
      "text/html": [
       "<table>\n",
       "<thead>\n",
       "<tr><th>name                     </th><th>class    </th><th>transform  </th><th>prior  </th><th>trainable  </th><th>shape     </th><th>dtype  </th><th>value                </th></tr>\n",
       "</thead>\n",
       "<tbody>\n",
       "<tr><td>VGP_kron.kernels[0].variance\n",
       "VGP_kron.kernels[1].variance\n",
       "VGP_kron.kernels[2].variance\n",
       "VGP_kron.kernels[3].variance\n",
       "VGP_kron.kernels[4].variance                          </td><td>Parameter</td><td>Softplus   </td><td>       </td><td>True       </td><td>()        </td><td>float64</td><td>0.9999999999999999   </td></tr>\n",
       "<tr><td>VGP_kron.kernels[0].lengthscales\n",
       "VGP_kron.kernels[1].lengthscales\n",
       "VGP_kron.kernels[2].lengthscales\n",
       "VGP_kron.kernels[3].lengthscales\n",
       "VGP_kron.kernels[4].lengthscales                          </td><td>Parameter</td><td>Softplus   </td><td>       </td><td>True       </td><td>()        </td><td>float64</td><td>0.9999999999999999   </td></tr>\n",
       "<tr><td>VGP_kron.q_mu            </td><td>Parameter</td><td>Identity   </td><td>       </td><td>True       </td><td>(16807, 1)</td><td>float64</td><td>[[0....              </td></tr>\n",
       "<tr><td>VGP_kron.q_sqrt_kron[0]  </td><td>Parameter</td><td>Identity   </td><td>       </td><td>True       </td><td>(7, 7)    </td><td>float64</td><td>[[1., 0., 0....      </td></tr>\n",
       "<tr><td>VGP_kron.q_sqrt_kron[1]  </td><td>Parameter</td><td>Identity   </td><td>       </td><td>True       </td><td>(7, 7)    </td><td>float64</td><td>[[1., 0., 0....      </td></tr>\n",
       "<tr><td>VGP_kron.q_sqrt_kron[2]  </td><td>Parameter</td><td>Identity   </td><td>       </td><td>True       </td><td>(7, 7)    </td><td>float64</td><td>[[1., 0., 0....      </td></tr>\n",
       "<tr><td>VGP_kron.q_sqrt_kron[3]  </td><td>Parameter</td><td>Identity   </td><td>       </td><td>True       </td><td>(7, 7)    </td><td>float64</td><td>[[1., 0., 0....      </td></tr>\n",
       "<tr><td>VGP_kron.q_sqrt_kron[4]  </td><td>Parameter</td><td>Identity   </td><td>       </td><td>True       </td><td>(7, 7)    </td><td>float64</td><td>[[1., 0., 0....      </td></tr>\n",
       "<tr><td>VGP_kron.q_sqrt_kron_2[0]</td><td>Parameter</td><td>Identity   </td><td>       </td><td>True       </td><td>(7, 7)    </td><td>float64</td><td>[[1.01, 0.01, 0.01...</td></tr>\n",
       "<tr><td>VGP_kron.q_sqrt_kron_2[1]</td><td>Parameter</td><td>Identity   </td><td>       </td><td>True       </td><td>(7, 7)    </td><td>float64</td><td>[[1.01, 0.01, 0.01...</td></tr>\n",
       "<tr><td>VGP_kron.q_sqrt_kron_2[2]</td><td>Parameter</td><td>Identity   </td><td>       </td><td>True       </td><td>(7, 7)    </td><td>float64</td><td>[[1.01, 0.01, 0.01...</td></tr>\n",
       "<tr><td>VGP_kron.q_sqrt_kron_2[3]</td><td>Parameter</td><td>Identity   </td><td>       </td><td>True       </td><td>(7, 7)    </td><td>float64</td><td>[[1.01, 0.01, 0.01...</td></tr>\n",
       "<tr><td>VGP_kron.q_sqrt_kron_2[4]</td><td>Parameter</td><td>Identity   </td><td>       </td><td>True       </td><td>(7, 7)    </td><td>float64</td><td>[[1.01, 0.01, 0.01...</td></tr>\n",
       "</tbody>\n",
       "</table>"
      ],
      "text/plain": [
       "<IPython.core.display.HTML object>"
      ]
     },
     "metadata": {},
     "output_type": "display_data"
    },
    {
     "data": {
      "text/html": [
       "<table>\n",
       "<thead>\n",
       "<tr><th>name                     </th><th>class    </th><th>transform  </th><th>prior  </th><th>trainable  </th><th>shape     </th><th>dtype  </th><th>value                </th></tr>\n",
       "</thead>\n",
       "<tbody>\n",
       "<tr><td>VGP_kron.kernels[0].variance\n",
       "VGP_kron.kernels[1].variance\n",
       "VGP_kron.kernels[2].variance\n",
       "VGP_kron.kernels[3].variance\n",
       "VGP_kron.kernels[4].variance                          </td><td>Parameter</td><td>Softplus   </td><td>       </td><td>True       </td><td>()        </td><td>float64</td><td>0.9999999999999999   </td></tr>\n",
       "<tr><td>VGP_kron.kernels[0].lengthscales\n",
       "VGP_kron.kernels[1].lengthscales\n",
       "VGP_kron.kernels[2].lengthscales\n",
       "VGP_kron.kernels[3].lengthscales\n",
       "VGP_kron.kernels[4].lengthscales                          </td><td>Parameter</td><td>Softplus   </td><td>       </td><td>True       </td><td>()        </td><td>float64</td><td>0.9999999999999999   </td></tr>\n",
       "<tr><td>VGP_kron.q_mu            </td><td>Parameter</td><td>Identity   </td><td>       </td><td>True       </td><td>(59049, 1)</td><td>float64</td><td>[[0....              </td></tr>\n",
       "<tr><td>VGP_kron.q_sqrt_kron[0]  </td><td>Parameter</td><td>Identity   </td><td>       </td><td>True       </td><td>(9, 9)    </td><td>float64</td><td>[[1., 0., 0....      </td></tr>\n",
       "<tr><td>VGP_kron.q_sqrt_kron[1]  </td><td>Parameter</td><td>Identity   </td><td>       </td><td>True       </td><td>(9, 9)    </td><td>float64</td><td>[[1., 0., 0....      </td></tr>\n",
       "<tr><td>VGP_kron.q_sqrt_kron[2]  </td><td>Parameter</td><td>Identity   </td><td>       </td><td>True       </td><td>(9, 9)    </td><td>float64</td><td>[[1., 0., 0....      </td></tr>\n",
       "<tr><td>VGP_kron.q_sqrt_kron[3]  </td><td>Parameter</td><td>Identity   </td><td>       </td><td>True       </td><td>(9, 9)    </td><td>float64</td><td>[[1., 0., 0....      </td></tr>\n",
       "<tr><td>VGP_kron.q_sqrt_kron[4]  </td><td>Parameter</td><td>Identity   </td><td>       </td><td>True       </td><td>(9, 9)    </td><td>float64</td><td>[[1., 0., 0....      </td></tr>\n",
       "<tr><td>VGP_kron.q_sqrt_kron_2[0]</td><td>Parameter</td><td>Identity   </td><td>       </td><td>True       </td><td>(9, 9)    </td><td>float64</td><td>[[1.01, 0.01, 0.01...</td></tr>\n",
       "<tr><td>VGP_kron.q_sqrt_kron_2[1]</td><td>Parameter</td><td>Identity   </td><td>       </td><td>True       </td><td>(9, 9)    </td><td>float64</td><td>[[1.01, 0.01, 0.01...</td></tr>\n",
       "<tr><td>VGP_kron.q_sqrt_kron_2[2]</td><td>Parameter</td><td>Identity   </td><td>       </td><td>True       </td><td>(9, 9)    </td><td>float64</td><td>[[1.01, 0.01, 0.01...</td></tr>\n",
       "<tr><td>VGP_kron.q_sqrt_kron_2[3]</td><td>Parameter</td><td>Identity   </td><td>       </td><td>True       </td><td>(9, 9)    </td><td>float64</td><td>[[1.01, 0.01, 0.01...</td></tr>\n",
       "<tr><td>VGP_kron.q_sqrt_kron_2[4]</td><td>Parameter</td><td>Identity   </td><td>       </td><td>True       </td><td>(9, 9)    </td><td>float64</td><td>[[1.01, 0.01, 0.01...</td></tr>\n",
       "</tbody>\n",
       "</table>"
      ],
      "text/plain": [
       "<IPython.core.display.HTML object>"
      ]
     },
     "metadata": {},
     "output_type": "display_data"
    },
    {
     "data": {
      "text/html": [
       "<table>\n",
       "<thead>\n",
       "<tr><th>name                     </th><th>class    </th><th>transform  </th><th>prior  </th><th>trainable  </th><th>shape      </th><th>dtype  </th><th>value                </th></tr>\n",
       "</thead>\n",
       "<tbody>\n",
       "<tr><td>VGP_kron.kernels[0].variance\n",
       "VGP_kron.kernels[1].variance\n",
       "VGP_kron.kernels[2].variance\n",
       "VGP_kron.kernels[3].variance\n",
       "VGP_kron.kernels[4].variance                          </td><td>Parameter</td><td>Softplus   </td><td>       </td><td>True       </td><td>()         </td><td>float64</td><td>0.9999999999999999   </td></tr>\n",
       "<tr><td>VGP_kron.kernels[0].lengthscales\n",
       "VGP_kron.kernels[1].lengthscales\n",
       "VGP_kron.kernels[2].lengthscales\n",
       "VGP_kron.kernels[3].lengthscales\n",
       "VGP_kron.kernels[4].lengthscales                          </td><td>Parameter</td><td>Softplus   </td><td>       </td><td>True       </td><td>()         </td><td>float64</td><td>0.9999999999999999   </td></tr>\n",
       "<tr><td>VGP_kron.q_mu            </td><td>Parameter</td><td>Identity   </td><td>       </td><td>True       </td><td>(161051, 1)</td><td>float64</td><td>[[0....              </td></tr>\n",
       "<tr><td>VGP_kron.q_sqrt_kron[0]  </td><td>Parameter</td><td>Identity   </td><td>       </td><td>True       </td><td>(11, 11)   </td><td>float64</td><td>[[1., 0., 0....      </td></tr>\n",
       "<tr><td>VGP_kron.q_sqrt_kron[1]  </td><td>Parameter</td><td>Identity   </td><td>       </td><td>True       </td><td>(11, 11)   </td><td>float64</td><td>[[1., 0., 0....      </td></tr>\n",
       "<tr><td>VGP_kron.q_sqrt_kron[2]  </td><td>Parameter</td><td>Identity   </td><td>       </td><td>True       </td><td>(11, 11)   </td><td>float64</td><td>[[1., 0., 0....      </td></tr>\n",
       "<tr><td>VGP_kron.q_sqrt_kron[3]  </td><td>Parameter</td><td>Identity   </td><td>       </td><td>True       </td><td>(11, 11)   </td><td>float64</td><td>[[1., 0., 0....      </td></tr>\n",
       "<tr><td>VGP_kron.q_sqrt_kron[4]  </td><td>Parameter</td><td>Identity   </td><td>       </td><td>True       </td><td>(11, 11)   </td><td>float64</td><td>[[1., 0., 0....      </td></tr>\n",
       "<tr><td>VGP_kron.q_sqrt_kron_2[0]</td><td>Parameter</td><td>Identity   </td><td>       </td><td>True       </td><td>(11, 11)   </td><td>float64</td><td>[[1.01, 0.01, 0.01...</td></tr>\n",
       "<tr><td>VGP_kron.q_sqrt_kron_2[1]</td><td>Parameter</td><td>Identity   </td><td>       </td><td>True       </td><td>(11, 11)   </td><td>float64</td><td>[[1.01, 0.01, 0.01...</td></tr>\n",
       "<tr><td>VGP_kron.q_sqrt_kron_2[2]</td><td>Parameter</td><td>Identity   </td><td>       </td><td>True       </td><td>(11, 11)   </td><td>float64</td><td>[[1.01, 0.01, 0.01...</td></tr>\n",
       "<tr><td>VGP_kron.q_sqrt_kron_2[3]</td><td>Parameter</td><td>Identity   </td><td>       </td><td>True       </td><td>(11, 11)   </td><td>float64</td><td>[[1.01, 0.01, 0.01...</td></tr>\n",
       "<tr><td>VGP_kron.q_sqrt_kron_2[4]</td><td>Parameter</td><td>Identity   </td><td>       </td><td>True       </td><td>(11, 11)   </td><td>float64</td><td>[[1.01, 0.01, 0.01...</td></tr>\n",
       "</tbody>\n",
       "</table>"
      ],
      "text/plain": [
       "<IPython.core.display.HTML object>"
      ]
     },
     "metadata": {},
     "output_type": "display_data"
    }
   ],
   "source": [
    "# Variational Fourier Features\n",
    "for M in range(2,7):  \n",
    "    m = VGP_kron(\n",
    "        (X, Y), np.arange(M), a=a, b=b, kernels=[k()]*np.shape(X)[1], likelihood=lik(), use_two_krons=True\n",
    "    )\n",
    "    \n",
    "    print_summary(m)\n",
    "    models.append(m)\n",
    "    labels.append(f\"VFF {M}\")\n",
    "    \n",
    "    # sparse\n",
    "    Ts = [-9.210340,0.,0.295129,0.510786]\n",
    "    ds = np.array([(M+1)**k for k in range(1,5)])\n",
    "    \n",
    "    for T,d in zip(Ts,ds):\n",
    "        m = VGP_kron(\n",
    "            (X, Y), np.arange(M), a=a, b=b, kernels=[k(), k(), k(), k(), k()], likelihood=lik(), use_two_krons=True, d=d, T=T, sparse=True\n",
    "        )   \n",
    "        models.append(m)\n",
    "        labels.append(f\"VFF {M} sparse. d = {d}, T = {T}\")"
   ]
  },
  {
   "cell_type": "code",
   "execution_count": 5,
   "metadata": {
    "scrolled": false
   },
   "outputs": [
    {
     "name": "stdout",
     "output_type": "stream",
     "text": [
      "Optimizing VFF 2\n",
      "11 s\n",
      "\n",
      "Optimizing VFF 2 sparse. d = 3, T = -9.21034\n",
      "9 s\n",
      "\n",
      "Optimizing VFF 2 sparse. d = 9, T = 0.0\n",
      "9 s\n",
      "\n",
      "Optimizing VFF 2 sparse. d = 27, T = 0.295129\n",
      "9 s\n",
      "\n",
      "Optimizing VFF 2 sparse. d = 81, T = 0.510786\n",
      "8 s\n",
      "\n",
      "Optimizing VFF 3\n",
      "8 s\n",
      "\n",
      "Optimizing VFF 3 sparse. d = 4, T = -9.21034\n",
      "11 s\n",
      "\n",
      "Optimizing VFF 3 sparse. d = 16, T = 0.0\n",
      "10 s\n",
      "\n",
      "Optimizing VFF 3 sparse. d = 64, T = 0.295129\n",
      "10 s\n",
      "\n",
      "Optimizing VFF 3 sparse. d = 256, T = 0.510786\n",
      "10 s\n",
      "\n",
      "Optimizing VFF 4\n",
      "9 s\n",
      "\n",
      "Optimizing VFF 4 sparse. d = 5, T = -9.21034\n",
      "20 s\n",
      "\n",
      "Optimizing VFF 4 sparse. d = 25, T = 0.0\n",
      "24 s\n",
      "\n",
      "Optimizing VFF 4 sparse. d = 125, T = 0.295129\n",
      "21 s\n",
      "\n",
      "Optimizing VFF 4 sparse. d = 625, T = 0.510786\n",
      "21 s\n",
      "\n",
      "Optimizing VFF 5\n",
      "12 s\n",
      "\n",
      "Optimizing VFF 5 sparse. d = 6, T = -9.21034\n",
      "20 s\n",
      "\n",
      "Optimizing VFF 5 sparse. d = 36, T = 0.0\n",
      "20 s\n",
      "\n",
      "Optimizing VFF 5 sparse. d = 216, T = 0.295129\n",
      "20 s\n",
      "\n",
      "Optimizing VFF 5 sparse. d = 1296, T = 0.510786\n",
      "54 s\n",
      "\n",
      "Optimizing VFF 6\n",
      "20 s\n",
      "\n",
      "Optimizing VFF 6 sparse. d = 7, T = -9.21034\n",
      "35 s\n",
      "\n",
      "Optimizing VFF 6 sparse. d = 49, T = 0.0\n",
      "35 s\n",
      "\n",
      "Optimizing VFF 6 sparse. d = 343, T = 0.295129\n",
      "35 s\n",
      "\n",
      "Optimizing VFF 6 sparse. d = 2401, T = 0.510786\n",
      "35 s\n",
      "\n"
     ]
    }
   ],
   "source": [
    "for label, m in zip(labels, models):\n",
    "    print(f\"Optimizing {label}\")\n",
    "    start = time()\n",
    "    try:\n",
    "        o = gpflow.optimizers.Scipy()\n",
    "        if isinstance(m, gpflow.models.ExternalDataTrainingLossMixin):\n",
    "            loss = m.training_loss_closure((X, Y))\n",
    "        else:\n",
    "            loss = m.training_loss\n",
    "        o.minimize(loss, m.trainable_variables)\n",
    "    except:\n",
    "        print(\"model optimization failed\")\n",
    "        \n",
    "    print (round(time()-start), \"s\")\n",
    "    print()"
   ]
  },
  {
   "cell_type": "code",
   "execution_count": 6,
   "metadata": {},
   "outputs": [],
   "source": [
    "fp = open(\"Titanic Preciseness.txt\", \"w\") \n",
    "\n",
    "for i, label, m in zip(range(np.size(labels)), labels, models):\n",
    "    mu, var = m.predict_y(X)\n",
    "    fp.write(label)\n",
    "    fp.write(' %f' %(sum(np.equal(np.round(mu), Y)[:,0] * np.equal(np.round(mu), Y)[:,0])/Y.shape[0]))\n",
    "    fp.write('\\n')\n",
    "    \n",
    "fp.close() "
   ]
  },
  {
   "cell_type": "markdown",
   "metadata": {},
   "source": [
    "## "
   ]
  }
 ],
 "metadata": {
  "kernelspec": {
   "display_name": "Python 3",
   "language": "python",
   "name": "python3"
  },
  "language_info": {
   "codemirror_mode": {
    "name": "ipython",
    "version": 3
   },
   "file_extension": ".py",
   "mimetype": "text/x-python",
   "name": "python",
   "nbconvert_exporter": "python",
   "pygments_lexer": "ipython3",
   "version": "3.8.5"
  }
 },
 "nbformat": 4,
 "nbformat_minor": 4
}
